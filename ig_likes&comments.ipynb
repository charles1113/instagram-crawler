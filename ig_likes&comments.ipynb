{
 "cells": [
  {
   "cell_type": "code",
   "execution_count": 33,
   "metadata": {
    "collapsed": true
   },
   "outputs": [
    {
     "name": "stdout",
     "output_type": "stream",
     "text": [
      "-------------------------------------1\n",
      "-------------------------------------1\n",
      "-------------------------------------1\n",
      "-------------------------------------1\n",
      "-------------------------------------1\n",
      "-------------------------------------1\n"
     ]
    }
   ],
   "source": [
    "#likes＆commet crawler\n",
    "import pandas as pd\n",
    "import numpy as np\n",
    "from selenium import webdriver\n",
    "import time, re\n",
    "from bs4 import BeautifulSoup\n",
    "from selenium.webdriver.common.keys import Keys\n",
    "driver=webdriver.Firefox(executable_path = '/Users/charles/Downloads/geckodriver')\n",
    "driver.implicitly_wait(3)\n",
    "driver.get(\"http://www.imgrum.org/user/___foodiary___/811410061\")\n",
    "time.sleep(2)\n",
    "\n",
    "def extract_like(): \n",
    "    like_list=[]\n",
    "    soup=BeautifulSoup(driver.page_source,'html.parser')\n",
    "    print(\"-------------------------------------\"+str(len(soup.select('.type_columns1 a'))))\n",
    "    for block in soup.select('.gallery_likes_add'):\n",
    "        #print(block.text)\n",
    "        like_list.append(block.text)\n",
    "    return like_list \n",
    "\n",
    "def extract_com(): \n",
    "    results=[]\n",
    "    soup=BeautifulSoup(driver.page_source,'html.parser')\n",
    "    print(\"-------------------------------------\"+str(len(soup.select('.type_columns1 a'))))\n",
    "    res = soup.select('.post-views')\n",
    "    pattern = r'\\<span\\>(\\d+)\\<\\/span\\>'\n",
    "    results = re.findall(pattern, str(res))\n",
    "    return results \n",
    "\n",
    "\n",
    "clicked = 0\n",
    "count=3\n",
    "all_list = []\n",
    "all_list_com = []\n",
    "while clicked < count:\n",
    "    all_list.append(extract_like())\n",
    "    all_list_com.append(extract_com())\n",
    "    #clicked = True\n",
    "    driver.find_element_by_css_selector(\".type_columns1 a\").click()\n",
    "    time.sleep(10)\n",
    "    clicked+=1\n",
    "    #print(driver.find_element_by_css_selector(\".type_columns1 a\"))\n",
    "all_new=np.hstack((all_list[0],all_list[1],all_list[2]))\n",
    "all_new_com=np.hstack((all_list_com[0],all_list_com[1],all_list_com[2]))\n",
    "all_pd_01=pd.DataFrame(all_new)\n",
    "all_pd_01_com=pd.DataFrame(all_new_com)\n",
    "df_25=pd.concat([all_pd_01, all_pd_01_com], axis=1)\n",
    "#if numclick > 0:\n",
    "    #driver.find_element_by_css_selector(\".type_columns1 a\").click()\n",
    "    #else:\n",
    "        #clickall = TRUE \n",
    "    #numclick = numclick -1\n",
    "    \n",
    "    \n",
    "    #for i in range(1,3):\n",
    "    #driver.find_element_by_css_selector(\".type_columns1 a\").click()\n",
    "    #time.sleep(8)\n",
    "\n",
    "#for block in soup3.select('.gallery_likes_add span'):\n",
    "    #print(block.text)\n",
    "driver.close()"
   ]
  },
  {
   "cell_type": "code",
   "execution_count": 3,
   "metadata": {
    "collapsed": true
   },
   "outputs": [
    {
     "name": "stdout",
     "output_type": "stream",
     "text": [
      "-------------------------------------1\n"
     ]
    },
    {
     "ename": "KeyboardInterrupt",
     "evalue": "",
     "output_type": "error",
     "traceback": [
      "\u001b[0;31m---------------------------------------------------------------------------\u001b[0m",
      "\u001b[0;31mKeyboardInterrupt\u001b[0m                         Traceback (most recent call last)",
      "\u001b[0;32m<ipython-input-3-c2ef68fc6988>\u001b[0m in \u001b[0;36m<module>\u001b[0;34m()\u001b[0m\n\u001b[1;32m     21\u001b[0m     \u001b[0mclicked\u001b[0m \u001b[0;34m=\u001b[0m \u001b[0;32mTrue\u001b[0m\u001b[0;34m\u001b[0m\u001b[0m\n\u001b[1;32m     22\u001b[0m     \u001b[0mdriver\u001b[0m\u001b[0;34m.\u001b[0m\u001b[0mfind_element_by_css_selector\u001b[0m\u001b[0;34m(\u001b[0m\u001b[0;34m\".type_columns1 a\"\u001b[0m\u001b[0;34m)\u001b[0m\u001b[0;34m.\u001b[0m\u001b[0mclick\u001b[0m\u001b[0;34m(\u001b[0m\u001b[0;34m)\u001b[0m\u001b[0;34m\u001b[0m\u001b[0m\n\u001b[0;32m---> 23\u001b[0;31m     \u001b[0mtime\u001b[0m\u001b[0;34m.\u001b[0m\u001b[0msleep\u001b[0m\u001b[0;34m(\u001b[0m\u001b[0;36m10\u001b[0m\u001b[0;34m)\u001b[0m\u001b[0;34m\u001b[0m\u001b[0m\n\u001b[0m\u001b[1;32m     24\u001b[0m     \u001b[0mclicked\u001b[0m \u001b[0;34m=\u001b[0m \u001b[0;32mFalse\u001b[0m\u001b[0;34m\u001b[0m\u001b[0m\n\u001b[1;32m     25\u001b[0m     \u001b[0;31m#print(driver.find_element_by_css_selector(\".type_columns1 a\"))\u001b[0m\u001b[0;34m\u001b[0m\u001b[0;34m\u001b[0m\u001b[0m\n",
      "\u001b[0;31mKeyboardInterrupt\u001b[0m: "
     ]
    }
   ],
   "source": [
    "##Hashtag crawler\n",
    "from selenium import webdriver\n",
    "import time, re\n",
    "from bs4 import BeautifulSoup\n",
    "from selenium.webdriver.common.keys import Keys\n",
    "driver=webdriver.Firefox(executable_path = '/Users/charles/Downloads/geckodriver')\n",
    "driver.implicitly_wait(3)\n",
    "driver.get(\"http://www.imgrum.org/user/iamteresa0424/257158580\")\n",
    "time.sleep(2)\n",
    "soup=BeautifulSoup(driver.page_source,'html.parser')\n",
    "def extract_like(): \n",
    "    soup=BeautifulSoup(driver.page_source,'html.parser')\n",
    "    print(\"-------------------------------------\"+str(len(soup.select('.type_columns1 a'))))\n",
    "    for block in soup.select('.icon-comments span'):\n",
    "        print(block.text)\n",
    "#pd=pd.DataFrame(block.text)\n",
    "clicked = False\n",
    "while clicked == False:\n",
    "    extract_like()\n",
    "    clicked = True\n",
    "    driver.find_element_by_css_selector(\".type_columns1 a\").click()\n",
    "    time.sleep(10)\n",
    "    clicked = False\n",
    "    "
   ]
  },
  {
   "cell_type": "code",
   "execution_count": 34,
   "metadata": {
    "collapsed": true
   },
   "outputs": [],
   "source": [
    "#合併資料\n",
    "df_1_25=pd.concat([df_01, df_02,df_03,df_04,df_05,df_06,df_07,df_08,df_09,df_10,df_11,df_12,df_13,df_14,df_15,df_16,df_17,df_18,df_19,df_20,df_21,df_22,df_23,df_24,df_25], axis=1)"
   ]
  },
  {
   "cell_type": "code",
   "execution_count": 13,
   "metadata": {
    "collapsed": false
   },
   "outputs": [],
   "source": [
    "#做dataset的轉換（以一張圖為一個row）\n",
    "ig_ALL_v1 = pd.melt(ig_all_v32, id_vars=['ID','Total post','Fans','Follows'], var_name='Comments', value_name = 'Comments_value')\n",
    "ig_ALL_v1\n",
    "ig_ALL_v1.to_csv('ig_likes_melt.csv', sep=',', encoding='UTF-8')\n",
    "ig_ALL_v2 = pd.melt(ig_all_v33, id_vars=['ID','Total post','Fans','Follows'], var_name='Likes', value_name = 'Likes_value')\n",
    "ig_ALL_v2\n",
    "ig_ALL_v2.to_csv('ig_comments_melt.csv', sep=',', encoding='UTF-8')"
   ]
  }
 ],
 "metadata": {
  "anaconda-cloud": {},
  "kernelspec": {
   "display_name": "Python 3",
   "language": "python",
   "name": "python3"
  },
  "language_info": {
   "codemirror_mode": {
    "name": "ipython",
    "version": 3
   },
   "file_extension": ".py",
   "mimetype": "text/x-python",
   "name": "python",
   "nbconvert_exporter": "python",
   "pygments_lexer": "ipython3",
   "version": "3.5.2"
  }
 },
 "nbformat": 4,
 "nbformat_minor": 1
}
